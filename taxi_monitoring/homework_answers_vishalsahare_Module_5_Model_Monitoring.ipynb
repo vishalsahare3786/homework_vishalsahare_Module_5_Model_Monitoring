{
 "cells": [
  {
   "cell_type": "markdown",
   "id": "3171474e-ec90-4711-8af7-bb99b1c3adeb",
   "metadata": {},
   "source": [
    "## Q1. Prepare the dataset\n",
    "Start with baseline_model_nyc_taxi_data.ipynb. Download the March 2024 Green Taxi data. We will use this data to simulate a production usage of a taxi trip duration prediction service.\n",
    "\n",
    "What is the shape of the downloaded data? How many rows are there?\n",
    "\n",
    "72044\n",
    "\n",
    "78537\n",
    "\n",
    "57457\n",
    "\n",
    "54396"
   ]
  }
 ],
 "metadata": {
  "kernelspec": {
   "display_name": "Python 3 (ipykernel)",
   "language": "python",
   "name": "python3"
  },
  "language_info": {
   "codemirror_mode": {
    "name": "ipython",
    "version": 3
   },
   "file_extension": ".py",
   "mimetype": "text/x-python",
   "name": "python",
   "nbconvert_exporter": "python",
   "pygments_lexer": "ipython3",
   "version": "3.11.0"
  }
 },
 "nbformat": 4,
 "nbformat_minor": 5
}
